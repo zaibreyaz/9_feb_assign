{
 "cells": [
  {
   "cell_type": "code",
   "execution_count": 3,
   "id": "4b1b1414-38d1-446f-9a64-49ed386aebc9",
   "metadata": {},
   "outputs": [
    {
     "name": "stdout",
     "output_type": "stream",
     "text": [
      "Swift has maximum speed of 150km/hr and an average of 16km/lt\n",
      "Evoque has maximum speed of 250km/hr and an average of 8km/lt\n"
     ]
    }
   ],
   "source": [
    "\"\"\"Q1, Create a vehicle class with an init method having instance variables as name_of_vehicle, max_speed and average_of_vehicle.\"\"\"\n",
    "\n",
    "# Ans:\n",
    "\n",
    "class vehicle:\n",
    "    \n",
    "    def __init__(self, name_of_vehicle, max_speed, average_of_vehicle):\n",
    "        self.name_of_vehicle = name_of_vehicle\n",
    "        self.max_speed = max_speed\n",
    "        self.average_of_vehicle = average_of_vehicle\n",
    "    \n",
    "    def information(self):\n",
    "        print(f\"{self.name_of_vehicle} has maximum speed of {self.max_speed}km/hr and an average of {self.average_of_vehicle}km/lt\")\n",
    "        \n",
    "car1 = vehicle(\"Swift\", \"150\", '16')\n",
    "car1.information()\n",
    "car2 = vehicle(\"Evoque\", \"250\", \"8\")\n",
    "car2.information()"
   ]
  },
  {
   "cell_type": "code",
   "execution_count": 9,
   "id": "d453de43-3956-4688-bdce-558f1ef39739",
   "metadata": {},
   "outputs": [
    {
     "data": {
      "text/plain": [
       "'Triber has seating capacity of 7'"
      ]
     },
     "execution_count": 9,
     "metadata": {},
     "output_type": "execute_result"
    }
   ],
   "source": [
    "\"\"\"Q2. Create a child class car from the vehicle class created in Que 1, which will inherit the vehicle class.\n",
    "Create a method named seating_capacity which takes capacity as an argument and returns the name of\n",
    "the vehicle and its seating capacity.\"\"\"\n",
    "\n",
    "# Ans:\n",
    "\n",
    "class car(vehicle):\n",
    "    \n",
    "    def seating_capacity(self, capacity):\n",
    "        return f\"{self.name_of_vehicle} has seating capacity of {capacity}\"\n",
    "    \n",
    "car3 = car(\"Triber\", \"150\", \"18\")\n",
    "car3.seating_capacity(7)"
   ]
  },
  {
   "cell_type": "code",
   "execution_count": 18,
   "id": "ba0ebadc-77d0-4746-8ce9-78d25d2da417",
   "metadata": {},
   "outputs": [
    {
     "name": "stdout",
     "output_type": "stream",
     "text": [
      "Mammals can give direct birth.\n",
      "Winged animals can flap.\n"
     ]
    }
   ],
   "source": [
    "\"\"\"Q3. What is multiple inheritance? Write a python code to demonstrate multiple inheritance.\"\"\"\n",
    "\"\"\"Ans: When a class is derived from more than one base class it is called multiple Inheritance. \n",
    "        The derived class inherits all the features of the base case.\"\"\"\n",
    "# Example:\n",
    "\n",
    "class Mammal:\n",
    "    def mammal_info(self):\n",
    "        print(\"Mammals can give direct birth.\")\n",
    "\n",
    "class WingedAnimal:\n",
    "    def winged_animal_info(self):\n",
    "        print(\"Winged animals can flap.\")\n",
    "\n",
    "class Bat(Mammal, WingedAnimal):\n",
    "    pass\n",
    "\n",
    "b1 = Bat()\n",
    "b1.mammal_info()\n",
    "b1.winged_animal_info()"
   ]
  },
  {
   "cell_type": "code",
   "execution_count": 26,
   "id": "78dac2fb-0750-4171-a751-461e71bcb93d",
   "metadata": {},
   "outputs": [
    {
     "name": "stdout",
     "output_type": "stream",
     "text": [
      "Your Account Password is 4845423\n",
      "Your Account Password is 987654\n"
     ]
    }
   ],
   "source": [
    "\"\"\"Q4. What are getter and setter in python? Create a class and create a getter and a setter method in this class.\"\"\"\n",
    "\n",
    "\"\"\"Ans: In Python, getters and setters are not the same as those in other object-oriented programming languages. \n",
    "        Basically, the main purpose of using getters and setters in object-oriented programs is to ensure data encapsulation. \n",
    "        Private variables in python are not actually hidden fields like in other object oriented languages. \n",
    "        Getters and Setters in python are often used when We use getters & setters to add validation logic around getting and setting a value.\n",
    "        To avoid direct access of a class field i.e. private variables cannot be accessed directly or modified by external user.\"\"\"\n",
    "\n",
    "# Example: \n",
    "\n",
    "class account:\n",
    "    \n",
    "    def __init__(self, account, password):\n",
    "        self.account = account\n",
    "        self.__password = password\n",
    "        \n",
    "    @property\n",
    "    def password_access(self):\n",
    "        return f\"Your Account Password is {self.__password}\"\n",
    "    \n",
    "    @password_access.setter\n",
    "    def set_password(self, new_password):\n",
    "        self.__password = new_password\n",
    "        \n",
    "\n",
    "acc = account(\"mdzaibreyaz\", '4845423')\n",
    "print(acc.password_access)\n",
    "acc.set_password = '987654'\n",
    "print(acc.password_access)"
   ]
  },
  {
   "cell_type": "code",
   "execution_count": 29,
   "id": "edade57b-6531-44da-b14c-b471d7cfa7d4",
   "metadata": {},
   "outputs": [
    {
     "name": "stdout",
     "output_type": "stream",
     "text": [
      "Account: mdzaibreyaz and Password: 4845423\n",
      "Account: mdzaibreyaz and Password: 9859971027\n"
     ]
    }
   ],
   "source": [
    "\"\"\"Q5.What is method overriding in python? Write a python code to demonstrate method overriding.\"\"\"\n",
    "\"\"\"Ans: Method overriding is an ability of any object-oriented programming language that allows a subclass or \n",
    "        child class to provide a specific implementation of a method that is already provided by one of its super-classes or \n",
    "        parent classes. When a method in a subclass has the same name, same parameters or signature and same \n",
    "        return type(or sub-type) as a method in its super-class, then the method in the subclass is said to override \n",
    "        the method in the super-class.\n",
    "\"\"\"\n",
    "# Example:\n",
    "\n",
    "class account1:\n",
    "    \n",
    "    def __init__(self):\n",
    "        self.account = 'mdzaibreyaz'\n",
    "        self.password = '4845423'\n",
    "        \n",
    "    def info(self):\n",
    "        return f\"Account: {self.account} and Password: {self.password}\"\n",
    "    \n",
    "class account2(account1):\n",
    "    \n",
    "    def __init__(self):\n",
    "        self.account = 'mdzaibreyaz'\n",
    "        self.password = '9859971027'\n",
    "        \n",
    "    def info(self):\n",
    "        return f\"Account: {self.account} and Password: {self.password}\"\n",
    "    \n",
    "acc1 = account1()\n",
    "print(acc1.info())\n",
    "acc2 = account2()\n",
    "print(acc2.info())"
   ]
  },
  {
   "cell_type": "code",
   "execution_count": null,
   "id": "0dc5a707-63f7-41e3-b3ec-a6ee027c14a2",
   "metadata": {},
   "outputs": [],
   "source": []
  }
 ],
 "metadata": {
  "kernelspec": {
   "display_name": "Python 3 (ipykernel)",
   "language": "python",
   "name": "python3"
  },
  "language_info": {
   "codemirror_mode": {
    "name": "ipython",
    "version": 3
   },
   "file_extension": ".py",
   "mimetype": "text/x-python",
   "name": "python",
   "nbconvert_exporter": "python",
   "pygments_lexer": "ipython3",
   "version": "3.10.8"
  }
 },
 "nbformat": 4,
 "nbformat_minor": 5
}
